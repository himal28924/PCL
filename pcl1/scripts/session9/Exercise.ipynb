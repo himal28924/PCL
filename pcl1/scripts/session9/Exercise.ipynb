{
 "cells": [
  {
   "cell_type": "markdown",
   "source": [
    "9.1–Recursion and lambda\n",
    "Given numLst= [1,2, 3, 4, 5]: \n",
    "a.define a functional fun_list_sum to sum the list using recursion (not with the reduce function as presented on the power point slides).\n",
    "b.define the same function using lambda"
   ],
   "metadata": {
    "collapsed": false
   },
   "id": "75e282e695be3138"
  },
  {
   "cell_type": "code",
   "outputs": [],
   "source": [
    "def fun_list_num(lists):\n",
    "    if len(lists) == 0:\n",
    "        return 0\n",
    "    elif len(lists) == 1:\n",
    "        return lists[0]\n",
    "    else:\n",
    "        return lists[0] + fun_list_num(lists[1:])"
   ],
   "metadata": {
    "collapsed": false,
    "ExecuteTime": {
     "end_time": "2024-04-16T07:04:32.508039Z",
     "start_time": "2024-04-16T07:04:32.505573Z"
    }
   },
   "id": "6413a1c58288557d",
   "execution_count": 10
  },
  {
   "cell_type": "code",
   "outputs": [
    {
     "data": {
      "text/plain": "15"
     },
     "execution_count": 11,
     "metadata": {},
     "output_type": "execute_result"
    }
   ],
   "source": [
    "fun_list_num([1,2,3,4,5])"
   ],
   "metadata": {
    "collapsed": false,
    "ExecuteTime": {
     "end_time": "2024-04-16T07:04:33.394230Z",
     "start_time": "2024-04-16T07:04:33.390795Z"
    }
   },
   "id": "b4ab0c9cd4aa0ea",
   "execution_count": 11
  },
  {
   "cell_type": "code",
   "outputs": [],
   "source": [
    "#stuck "
   ],
   "metadata": {
    "collapsed": false,
    "ExecuteTime": {
     "end_time": "2024-04-16T07:13:38.530736Z",
     "start_time": "2024-04-16T07:13:38.527345Z"
    }
   },
   "id": "b4e46dd4cbe96e",
   "execution_count": 12
  },
  {
   "cell_type": "code",
   "outputs": [],
   "source": [
    "fun_list_num_lambda = lambda nums : sum(nums)"
   ],
   "metadata": {
    "collapsed": false,
    "ExecuteTime": {
     "end_time": "2024-04-16T07:14:14.287976Z",
     "start_time": "2024-04-16T07:14:14.285764Z"
    }
   },
   "id": "4dc14855c22ef1d4",
   "execution_count": 13
  },
  {
   "cell_type": "code",
   "outputs": [
    {
     "data": {
      "text/plain": "15"
     },
     "execution_count": 14,
     "metadata": {},
     "output_type": "execute_result"
    }
   ],
   "source": [
    "fun_list_num_lambda([1,2,3,4,5])"
   ],
   "metadata": {
    "collapsed": false,
    "ExecuteTime": {
     "end_time": "2024-04-16T07:14:32.244335Z",
     "start_time": "2024-04-16T07:14:32.240989Z"
    }
   },
   "id": "365a795d200fc424",
   "execution_count": 14
  },
  {
   "cell_type": "code",
   "outputs": [],
   "source": [],
   "metadata": {
    "collapsed": false
   },
   "id": "19a61af0dcd58c8d"
  }
 ],
 "metadata": {
  "kernelspec": {
   "display_name": "Python 3",
   "language": "python",
   "name": "python3"
  },
  "language_info": {
   "codemirror_mode": {
    "name": "ipython",
    "version": 2
   },
   "file_extension": ".py",
   "mimetype": "text/x-python",
   "name": "python",
   "nbconvert_exporter": "python",
   "pygments_lexer": "ipython2",
   "version": "2.7.6"
  }
 },
 "nbformat": 4,
 "nbformat_minor": 5
}
