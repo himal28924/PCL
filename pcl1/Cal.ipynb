{
 "cells": [
  {
   "cell_type": "code",
   "execution_count": null,
   "id": "initial_id",
   "metadata": {
    "collapsed": true
   },
   "outputs": [],
   "source": [
    "\n",
    "\n",
    "\n"
   ]
  },
  {
   "cell_type": "code",
   "outputs": [],
   "source": [
    "import numpy as np\n",
    "\n",
    "# Constants for the bounds and number of samples\n",
    "x_min, x_max = 0, 106\n",
    "y_min, y_max = -11, 105  # Adjusted for a simpler boundary calculation\n",
    "n = 100\n"
   ],
   "metadata": {
    "collapsed": false,
    "ExecuteTime": {
     "end_time": "2024-05-02T06:11:53.231890Z",
     "start_time": "2024-05-02T06:11:52.840739Z"
    }
   },
   "id": "f9291f789c72287d",
   "execution_count": 1
  },
  {
   "cell_type": "code",
   "outputs": [],
   "source": [
    "\n",
    "# Redefining functions to match the simpler y bounds\n",
    "def f(x):\n",
    "    return 105 * ((x/106)**0.5 - (x/106)**2)\n",
    "\n",
    "def g(x):\n",
    "    return -11 * ((x/106)**0.5 - (x/106)**2)"
   ],
   "metadata": {
    "collapsed": false,
    "ExecuteTime": {
     "end_time": "2024-05-02T06:12:13.194171Z",
     "start_time": "2024-05-02T06:12:13.190017Z"
    }
   },
   "id": "1da0410198e18689",
   "execution_count": 2
  },
  {
   "cell_type": "code",
   "outputs": [],
   "source": [
    "# Generating random points\n",
    "np.random.seed(0)\n",
    "X_i = np.random.uniform(x_min, x_max, n)\n",
    "Y_i = np.random.uniform(y_min, y_max, n)\n"
   ],
   "metadata": {
    "collapsed": false,
    "ExecuteTime": {
     "end_time": "2024-05-02T06:12:24.468274Z",
     "start_time": "2024-05-02T06:12:24.465024Z"
    }
   },
   "id": "73c1de501593c",
   "execution_count": 3
  },
  {
   "cell_type": "code",
   "outputs": [],
   "source": [
    "# Evaluate whether the points are between the curves\n",
    "h = np.where((g(X_i) <= Y_i) & (Y_i <= f(X_i)), 1, 0)"
   ],
   "metadata": {
    "collapsed": false,
    "ExecuteTime": {
     "end_time": "2024-05-02T06:12:37.014604Z",
     "start_time": "2024-05-02T06:12:37.012294Z"
    }
   },
   "id": "9a2db40e999311c1",
   "execution_count": 4
  },
  {
   "cell_type": "code",
   "outputs": [],
   "source": [
    "# Compute cumulative averages of h to get <f>_n\n",
    "F_n = np.cumsum(h) / np.arange(1, n+1)"
   ],
   "metadata": {
    "collapsed": false,
    "ExecuteTime": {
     "end_time": "2024-05-02T06:13:00.020702Z",
     "start_time": "2024-05-02T06:13:00.017989Z"
    }
   },
   "id": "37255151a9de96c2",
   "execution_count": 5
  },
  {
   "cell_type": "code",
   "outputs": [],
   "source": [
    "# Calculate I_n using the area of the bounding rectangle\n",
    "bounding_area = (x_max - x_min) * (y_max - y_min)\n",
    "I_n = F_n * bounding_area"
   ],
   "metadata": {
    "collapsed": false,
    "ExecuteTime": {
     "end_time": "2024-05-02T06:13:14.265960Z",
     "start_time": "2024-05-02T06:13:14.263600Z"
    }
   },
   "id": "66de1187bfb3b871",
   "execution_count": 6
  },
  {
   "cell_type": "code",
   "outputs": [],
   "source": [
    "# Prepare the table for output\n",
    "table_output = np.column_stack((np.arange(1, n+1), X_i, Y_i, h, F_n, I_n))\n",
    "I_10 = I_n[9]  # I_10 from the series\n"
   ],
   "metadata": {
    "collapsed": false,
    "ExecuteTime": {
     "end_time": "2024-05-02T06:13:19.964460Z",
     "start_time": "2024-05-02T06:13:19.962018Z"
    }
   },
   "id": "f13202486e2dedbb",
   "execution_count": 7
  },
  {
   "cell_type": "code",
   "outputs": [
    {
     "data": {
      "text/plain": "(array([[1.00000000e+00, 5.81742314e+01, 6.76267183e+01, 0.00000000e+00,\n         0.00000000e+00, 0.00000000e+00],\n        [2.00000000e+00, 7.58100728e+01, 2.03209249e+01, 1.00000000e+00,\n         5.00000000e-01, 6.14800000e+03],\n        [3.00000000e+00, 6.38929179e+01, 7.42825066e+01, 0.00000000e+00,\n         3.33333333e-01, 4.09866667e+03],\n        [4.00000000e+00, 5.77576174e+01, 1.00613871e+02, 0.00000000e+00,\n         2.50000000e-01, 3.07400000e+03],\n        [5.00000000e+00, 4.49074087e+01, 1.78553646e+01, 1.00000000e+00,\n         4.00000000e-01, 4.91840000e+03],\n        [6.00000000e+00, 6.84647760e+01, 5.58342508e+01, 0.00000000e+00,\n         3.33333333e-01, 4.09866667e+03],\n        [7.00000000e+00, 4.63842444e+01, 5.76768640e+01, 0.00000000e+00,\n         2.85714286e-01, 3.51314286e+03],\n        [8.00000000e+00, 9.45279381e+01, 5.53812211e+01, 0.00000000e+00,\n         2.50000000e-01, 3.07400000e+03],\n        [9.00000000e+00, 1.02148253e+02, 1.48774694e+01, 0.00000000e+00,\n         2.22222222e-01, 2.73244444e+03],\n        [1.00000000e+01, 4.06448010e+01, 9.95188853e+01, 0.00000000e+00,\n         2.00000000e-01, 2.45920000e+03]]),\n 2459.2000000000003)"
     },
     "execution_count": 8,
     "metadata": {},
     "output_type": "execute_result"
    }
   ],
   "source": [
    "table_output[:10], I_10  # Display the first 10 rows and I_10\n"
   ],
   "metadata": {
    "collapsed": false,
    "ExecuteTime": {
     "end_time": "2024-05-02T06:13:25.831456Z",
     "start_time": "2024-05-02T06:13:25.826785Z"
    }
   },
   "id": "44d92fa490fa6a63",
   "execution_count": 8
  },
  {
   "cell_type": "code",
   "outputs": [
    {
     "data": {
      "text/plain": "(0.0971285862357264*x**0.5 - x**2/11236,\n 0.0485642931178632/x**0.5 - x/5618,\n [42.0661278771573],\n [0.0, 0.0, 49.6093913396106],\n [-0.0, -0.0, -5.19717433081635],\n -5.19717433081635,\n 49.6093913396106)"
     },
     "execution_count": 10,
     "metadata": {},
     "output_type": "execute_result"
    }
   ],
   "source": [
    "from sympy import symbols, diff, solve\n",
    "\n",
    "# Define the variable and function\n",
    "x = symbols('x')\n",
    "h = (x/106)**0.5 - (x/106)**2\n",
    "\n",
    "# Derivative of h\n",
    "h_prime = diff(h, x)\n",
    "\n",
    "# Solve h'(x) = 0 to find critical points\n",
    "critical_points = solve(h_prime, x)\n",
    "\n",
    "# Evaluate f(x) and g(x) at x = 0, x = 106, and critical points\n",
    "f_critical_values = [f(x_val) for x_val in [0, 106] + critical_points]\n",
    "g_critical_values = [g(x_val) for x_val in [0, 106] + critical_points]\n",
    "\n",
    "# Determine ymin and ymax\n",
    "y_min = min(g_critical_values)\n",
    "y_max = max(f_critical_values)\n",
    "\n",
    "h, h_prime, critical_points, f_critical_values, g_critical_values, y_min, y_max\n"
   ],
   "metadata": {
    "collapsed": false,
    "ExecuteTime": {
     "end_time": "2024-05-02T06:35:05.844491Z",
     "start_time": "2024-05-02T06:35:05.369912Z"
    }
   },
   "id": "1bdaedaaa67c19f3",
   "execution_count": 10
  },
  {
   "cell_type": "code",
   "outputs": [
    {
     "name": "stdout",
     "output_type": "stream",
     "text": [
      "Critical points: [42.0661278771573]\n",
      "f(x) at critical values: [0.0, 0.0, 49.6093913396106]\n",
      "g(x) at critical values: [-0.0, -0.0, -5.19717433081635]\n",
      "y_min: -5.19717433081635\n",
      "y_max: 49.6093913396106\n"
     ]
    }
   ],
   "source": [
    "from sympy import symbols, diff, solve\n",
    "\n",
    "# Define the variable and functions\n",
    "x = symbols('x')\n",
    "h = (x/106)**0.5 - (x/106)**2  # Base function\n",
    "\n",
    "# Functions f(x) and g(x)\n",
    "def f(x):\n",
    "    return 105 * ((x/106)**0.5 - (x/106)**2)\n",
    "\n",
    "def g(x):\n",
    "    return -11 * ((x/106)**0.5 - (x/106)**2)\n",
    "\n",
    "# Derivative of h\n",
    "h_prime = diff(h, x)\n",
    "\n",
    "# Solve h'(x) = 0 to find critical points\n",
    "critical_points = solve(h_prime, x)\n",
    "\n",
    "# Evaluate f(x) and g(x) at x = 0, x = 106, and critical points\n",
    "f_critical_values = [f(x_val) for x_val in [0, 106] + critical_points]\n",
    "g_critical_values = [g(x_val) for x_val in [0, 106] + critical_points]\n",
    "\n",
    "# Determine ymin and ymax\n",
    "y_min = min(g_critical_values)\n",
    "y_max = max(f_critical_values)\n",
    "\n",
    "print(\"Critical points:\", critical_points)\n",
    "print(\"f(x) at critical values:\", f_critical_values)\n",
    "print(\"g(x) at critical values:\", g_critical_values)\n",
    "print(\"y_min:\", y_min)\n",
    "print(\"y_max:\", y_max)\n"
   ],
   "metadata": {
    "collapsed": false,
    "ExecuteTime": {
     "end_time": "2024-05-02T06:35:23.835792Z",
     "start_time": "2024-05-02T06:35:23.786366Z"
    }
   },
   "id": "28a3f287803166b6",
   "execution_count": 11
  },
  {
   "cell_type": "code",
   "outputs": [
    {
     "data": {
      "text/plain": "array([[1.00000000e+00, 5.81742314e+01, 3.19511244e+01, 1.00000000e+00,\n        1.00000000e+00, 5.80986000e+03],\n       [2.00000000e+00, 7.58100728e+01, 9.59913701e+00, 1.00000000e+00,\n        1.00000000e+00, 5.80986000e+03],\n       [3.00000000e+00, 6.38929179e+01, 3.50959844e+01, 1.00000000e+00,\n        1.00000000e+00, 5.80986000e+03],\n       [4.00000000e+00, 5.77576174e+01, 4.75375542e+01, 0.00000000e+00,\n        7.50000000e-01, 4.35739500e+03],\n       [5.00000000e+00, 4.49074087e+01, 8.43415980e+00, 1.00000000e+00,\n        8.00000000e-01, 4.64788800e+03],\n       [6.00000000e+00, 6.84647760e+01, 2.63791835e+01, 1.00000000e+00,\n        8.33333333e-01, 4.84155000e+03],\n       [7.00000000e+00, 4.63842444e+01, 2.72498183e+01, 1.00000000e+00,\n        8.57142857e-01, 4.97988000e+03],\n       [8.00000000e+00, 9.45279381e+01, 2.61651270e+01, 0.00000000e+00,\n        7.50000000e-01, 4.35739500e+03],\n       [9.00000000e+00, 1.02148253e+02, 7.02710429e+00, 0.00000000e+00,\n        6.66666667e-01, 3.87324000e+03],\n       [1.00000000e+01, 4.06448010e+01, 4.70201733e+01, 1.00000000e+00,\n        7.00000000e-01, 4.06690200e+03]])"
     },
     "execution_count": 12,
     "metadata": {},
     "output_type": "execute_result"
    }
   ],
   "source": [
    "# Given limits and number of trials\n",
    "x_min, x_max = 0, 106\n",
    "y_min, y_max = -5.20, 49.61\n",
    "n = 100\n",
    "\n",
    "# Redefining the functions based on the specific ymin and ymax values\n",
    "def f(x):\n",
    "    return 105 * ((x/106)**0.5 - (x/106)**2)\n",
    "\n",
    "def g(x):\n",
    "    return -11 * ((x/106)**0.5 - (x/106)**2)\n",
    "\n",
    "# Generating random points (X_i, Y_i)\n",
    "np.random.seed(0)\n",
    "X_i = np.random.uniform(x_min, x_max, n)\n",
    "Y_i = np.random.uniform(y_min, y_max, n)\n",
    "\n",
    "# Evaluate whether the points are between the curves\n",
    "h = np.where((g(X_i) <= Y_i) & (Y_i <= f(X_i)), 1, 0)\n",
    "\n",
    "# Compute cumulative averages of h to get <f>_n\n",
    "F_n = np.cumsum(h) / np.arange(1, n+1)\n",
    "\n",
    "# Calculate I_n using the area of the bounding rectangle\n",
    "bounding_area = (x_max - x_min) * (y_max - y_min)\n",
    "I_n = F_n * bounding_area\n",
    "\n",
    "# Prepare the table for output\n",
    "table_output = np.column_stack((np.arange(1, n+1), X_i, Y_i, h, F_n, I_n))\n",
    "table_output[:10]  # Display the first 10 rows\n"
   ],
   "metadata": {
    "collapsed": false,
    "ExecuteTime": {
     "end_time": "2024-05-02T07:36:36.805180Z",
     "start_time": "2024-05-02T07:36:36.799555Z"
    }
   },
   "id": "20c3ee2ab5a8455",
   "execution_count": 12
  },
  {
   "cell_type": "code",
   "outputs": [
    {
     "name": "stdout",
     "output_type": "stream",
     "text": [
      "Trial 1: X_i=58.17, Y_i=31.95, h=1, <f>_n=1.0000, I_n=5809.86\n",
      "Trial 2: X_i=75.81, Y_i=9.60, h=1, <f>_n=1.0000, I_n=5809.86\n",
      "Trial 3: X_i=63.89, Y_i=35.10, h=1, <f>_n=1.0000, I_n=5809.86\n",
      "Trial 4: X_i=57.76, Y_i=47.54, h=0, <f>_n=0.7500, I_n=4357.40\n",
      "Trial 5: X_i=44.91, Y_i=8.43, h=1, <f>_n=0.8000, I_n=4647.89\n",
      "Trial 6: X_i=68.46, Y_i=26.38, h=1, <f>_n=0.8333, I_n=4841.55\n",
      "Trial 7: X_i=46.38, Y_i=27.25, h=1, <f>_n=0.8571, I_n=4979.88\n",
      "Trial 8: X_i=94.53, Y_i=26.17, h=0, <f>_n=0.7500, I_n=4357.40\n",
      "Trial 9: X_i=102.15, Y_i=7.03, h=0, <f>_n=0.6667, I_n=3873.24\n",
      "Trial 10: X_i=40.64, Y_i=47.02, h=1, <f>_n=0.7000, I_n=4066.90\n"
     ]
    }
   ],
   "source": [
    "import numpy as np\n",
    "\n",
    "# Define the number of trials and the bounds\n",
    "x_min, x_max = 0, 106\n",
    "y_min, y_max = -5.20, 49.61\n",
    "n = 100\n",
    "\n",
    "# Redefine the functions based on specific ymin and ymax values\n",
    "def f(x):\n",
    "    return 105 * ((x / 106)**0.5 - (x / 106)**2)\n",
    "\n",
    "def g(x):\n",
    "    return -11 * ((x / 106)**0.5 - (x / 106)**2)\n",
    "\n",
    "# Generating random points\n",
    "np.random.seed(0)\n",
    "X_i = np.random.uniform(x_min, x_max, n)\n",
    "Y_i = np.random.uniform(y_min, y_max, n)\n",
    "\n",
    "# Evaluate whether the points are between the curves\n",
    "h = np.array([1 if g(X_i[i]) <= Y_i[i] <= f(X_i[i]) else 0 for i in range(n)])\n",
    "\n",
    "# Compute cumulative averages of h to get <f>_n\n",
    "F_n = np.cumsum(h) / np.arange(1, n+1)\n",
    "\n",
    "# Calculate I_n using the area of the bounding rectangle\n",
    "bounding_area = (x_max - x_min) * (y_max - y_min)\n",
    "I_n = F_n * bounding_area\n",
    "\n",
    "# Print the results\n",
    "for i in range(10):  # Display the first 10 results\n",
    "    print(f\"Trial {i+1}: X_i={X_i[i]:.2f}, Y_i={Y_i[i]:.2f}, h={h[i]}, <f>_n={F_n[i]:.4f}, I_n={I_n[i]:.2f}\")\n"
   ],
   "metadata": {
    "collapsed": false,
    "ExecuteTime": {
     "end_time": "2024-05-02T07:37:59.699649Z",
     "start_time": "2024-05-02T07:37:59.694723Z"
    }
   },
   "id": "e4fc70b07ab8b742",
   "execution_count": 13
  },
  {
   "cell_type": "code",
   "outputs": [],
   "source": [],
   "metadata": {
    "collapsed": false
   },
   "id": "f5bcf0faa4e28d08"
  }
 ],
 "metadata": {
  "kernelspec": {
   "display_name": "Python 3",
   "language": "python",
   "name": "python3"
  },
  "language_info": {
   "codemirror_mode": {
    "name": "ipython",
    "version": 2
   },
   "file_extension": ".py",
   "mimetype": "text/x-python",
   "name": "python",
   "nbconvert_exporter": "python",
   "pygments_lexer": "ipython2",
   "version": "2.7.6"
  }
 },
 "nbformat": 4,
 "nbformat_minor": 5
}
